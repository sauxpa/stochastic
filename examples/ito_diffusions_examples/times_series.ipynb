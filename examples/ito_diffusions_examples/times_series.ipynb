{
 "cells": [
  {
   "cell_type": "code",
   "execution_count": 1,
   "metadata": {},
   "outputs": [
    {
     "data": {
      "text/html": [
       "<style>.container { width:95% !important; } </style>"
      ],
      "text/plain": [
       "<IPython.core.display.HTML object>"
      ]
     },
     "metadata": {},
     "output_type": "display_data"
    }
   ],
   "source": [
    "from IPython.core.display import HTML\n",
    "display(HTML('<style>.container { width:95% !important; } </style>'))\n",
    "\n",
    "%load_ext autoreload\n",
    "%autoreload 2"
   ]
  },
  {
   "cell_type": "code",
   "execution_count": null,
   "metadata": {},
   "outputs": [],
   "source": [
    "import numpy as np\n",
    "import matplotlib.pyplot as plt\n",
    "from ito_diffusions import *\n",
    "from statsmodels.graphics.tsaplots import plot_acf\n",
    "plt.style.use('dark_background')"
   ]
  },
  {
   "cell_type": "code",
   "execution_count": null,
   "metadata": {},
   "outputs": [],
   "source": [
    "params = {\n",
    "    'font.size': 14,\n",
    "    'figure.figsize': (22, 18),\n",
    "    'axes.labelsize': 12,\n",
    "    'xtick.labelsize': 12,\n",
    "    'ytick.labelsize': 12,\n",
    "}\n",
    "plt.rcParams.update(params)"
   ]
  },
  {
   "cell_type": "code",
   "execution_count": null,
   "metadata": {},
   "outputs": [],
   "source": [
    "SEED = 12345\n",
    "T = int(1e3)\n",
    "integrated = True"
   ]
  },
  {
   "cell_type": "markdown",
   "metadata": {},
   "source": [
    "## Autoregressive model AR(p)\n",
    "\n",
    "$$X_t = \\mu + \\sum_{i=1}^p a_{i} X_{t-i} + Z_t\\,.$$"
   ]
  },
  {
   "cell_type": "code",
   "execution_count": null,
   "metadata": {},
   "outputs": [],
   "source": [
    "fig, axess = plt.subplots(nrows=5, ncols=2)\n",
    "\n",
    "a_ = [\n",
    "    [],\n",
    "    [0.3],\n",
    "    [0.9],\n",
    "    [0.3, 0.3],\n",
    "    [0.9, -0.8],\n",
    "]\n",
    "\n",
    "X = AR(x0=[0.0, 0.0], mu=0.0, T=T, vol=1.0)\n",
    "\n",
    "for i, axes in enumerate(axess):\n",
    "    a = a_[i]\n",
    "    X.a = a\n",
    "    # Rerun with same rng to see the difference between models using the same noise distribution\n",
    "    X.rng = np.random.default_rng(SEED)\n",
    "    df = X.simulate()\n",
    "    \n",
    "    ax = axes[0]\n",
    "    if integrated:\n",
    "        df.cumsum().plot(kind='line', ax=ax)\n",
    "    else:\n",
    "        df.plot(kind='line', ax=ax)\n",
    "\n",
    "    if X.p > 0:\n",
    "        ax.set_xlabel('time\\n$\\mu$={:.1f}, a={}'.format(X.mu, X.a))\n",
    "    else:\n",
    "        ax.set_xlabel('time\\n$\\mu$={:.1f}'.format(X.mu))\n",
    "    ax.set_ylabel('spot')\n",
    "    ax.legend(loc='upper right')\n",
    "    ax.set_title('AR({:.0f})'.format(X.p))\n",
    "    \n",
    "    ax = axes[1]\n",
    "    plot_acf(df, ax=ax)\n",
    "    \n",
    "plt.tight_layout()\n",
    "plt.show()"
   ]
  },
  {
   "cell_type": "markdown",
   "metadata": {},
   "source": [
    "## Moving-average model MA(q)\n",
    "\n",
    "$$X_t = \\mu + Z_t + \\sum_{j=1}^q b_{j} Z_{t-j}\\,.$$"
   ]
  },
  {
   "cell_type": "code",
   "execution_count": null,
   "metadata": {},
   "outputs": [],
   "source": [
    "fig, axess = plt.subplots(nrows=5, ncols=2)\n",
    "\n",
    "b_ = [\n",
    "    [],\n",
    "    [0.3],\n",
    "    [0.9],\n",
    "    [0.3, 0.3],\n",
    "    [0.9, -0.8],\n",
    "]\n",
    "\n",
    "X = MA(x0=[0.0, 0.0], mu=0.0, T=T, vol=1.0)\n",
    "\n",
    "for i, axes in enumerate(axess):\n",
    "    b = b_[i]\n",
    "    X.b = b\n",
    "    X.rng = np.random.default_rng(SEED)\n",
    "    df = X.simulate()\n",
    "    \n",
    "    ax = axes[0]\n",
    "    if integrated:\n",
    "        df.cumsum().plot(kind='line', ax=ax)\n",
    "    else:\n",
    "        df.plot(kind='line', ax=ax)\n",
    "\n",
    "    if X.q > 0:\n",
    "        ax.set_xlabel('time\\n$\\mu$={:.1f}, a={}'.format(X.mu, X.b))\n",
    "    else:\n",
    "        ax.set_xlabel('time\\n$\\mu$={:.1f}'.format(X.mu))\n",
    "    ax.set_ylabel('spot')\n",
    "    ax.legend(loc='upper right')\n",
    "    ax.set_title('MA({:.0f})'.format(X.q))\n",
    "    \n",
    "    ax = axes[1]\n",
    "    plot_acf(df, ax=ax)\n",
    "    \n",
    "plt.tight_layout()\n",
    "plt.show()"
   ]
  },
  {
   "cell_type": "markdown",
   "metadata": {},
   "source": [
    "## Autoregressive Moving-average model ARMA(p, q)\n",
    "\n",
    "$$X_t = \\mu + Z_t + \\sum_{i=1}^p a_{i} X_{t-i} + \\sum_{j=1}^q b_{j} Z_{t-j}\\,.$$"
   ]
  },
  {
   "cell_type": "code",
   "execution_count": null,
   "metadata": {},
   "outputs": [],
   "source": [
    "X = ARMA(x0=[0.0, 0.0], mu=0.0, T=T, vol=1.0)\n",
    "\n",
    "for i in range(5):\n",
    "    fig, axess = plt.subplots(nrows=5, ncols=2)\n",
    "    for j in range(5):\n",
    "        axes = axess[j]\n",
    "        a = a_[i]\n",
    "        b = b_[j]\n",
    "        X.a = a\n",
    "        X.b = b\n",
    "        X.rng = np.random.default_rng(SEED)\n",
    "        df = X.simulate()\n",
    "\n",
    "        ax = axes[0]    \n",
    "        if integrated:\n",
    "            df.cumsum().plot(kind='line', ax=ax)\n",
    "        else:\n",
    "            df.plot(kind='line', ax=ax)\n",
    "\n",
    "        if X.p > 0 and X.q > 0:\n",
    "            ax.set_xlabel('time\\n$\\mu$={:.1f}, a={}, b={}'.format(X.mu, X.a, X.b))\n",
    "        elif X.p > 0 and X.q == 0:\n",
    "            ax.set_xlabel('time\\n$\\mu$={:.1f}, a={}'.format(X.mu, X.a))\n",
    "        elif X.p == 0 and X.q > 0:\n",
    "            ax.set_xlabel('time\\n$\\mu$={:.1f}, b={}'.format(X.mu, X.b))\n",
    "        else:\n",
    "            ax.set_xlabel('time\\n$\\mu$={:.1f}'.format(X.mu))\n",
    "\n",
    "        ax.set_ylabel('spot')\n",
    "        ax.legend(loc='upper right')\n",
    "        ax.set_title('ARMA({:.0f}, {:.0f})'.format(X.p, X.q))\n",
    "\n",
    "        ax = axes[1]\n",
    "        plot_acf(df, ax=ax)\n",
    "\n",
    "    plt.tight_layout()\n",
    "    plt.show()"
   ]
  },
  {
   "cell_type": "markdown",
   "metadata": {},
   "source": [
    "## Autoregressive conditional heteroskedasticity ARCH(p)\n",
    "\\begin{align}\n",
    "&X_t = \\sigma_t Z_t\\,,\\\\\n",
    "&\\sigma^2_t = v + \\sum_{i=1}^p a_i X^2_{t-i}\\,.\n",
    "\\end{align}"
   ]
  },
  {
   "cell_type": "code",
   "execution_count": null,
   "metadata": {},
   "outputs": [],
   "source": [
    "fig, axess = plt.subplots(nrows=4, ncols=2)\n",
    "\n",
    "a_ = [\n",
    "    [],\n",
    "    [0.9],\n",
    "    [2.1],\n",
    "    [0.3, 1.0],\n",
    "]\n",
    "\n",
    "X = ARCH(x0=[0.0, 0.0], sigma0=[1.0, 1.0], v=1.0, T=T, vol=1.0)\n",
    "\n",
    "for i, axes in enumerate(axess):\n",
    "    a = a_[i]\n",
    "    X.a = a\n",
    "    X.rng = np.random.default_rng(SEED)\n",
    "    df = X.simulate()\n",
    "    \n",
    "    ax = axes[0]\n",
    "    if integrated:\n",
    "        df['spot'].cumsum().plot(kind='line', ax=ax)\n",
    "        df['vol'].plot(kind='line', ax=ax)\n",
    "    else:\n",
    "        df.plot(kind='line', ax=ax)\n",
    "\n",
    "    \n",
    "    if X.p > 0:\n",
    "        ax.set_xlabel('time\\n$v$={:.1f}, a={}'.format(X.v, X.a))\n",
    "    else:\n",
    "        ax.set_xlabel('time\\n$v$={:.1f}'.format(X.v))\n",
    "    ax.set_ylabel('spot')\n",
    "    ax.legend(loc='upper right')\n",
    "    ax.set_title('ARCH({:.0f})'.format(X.p))\n",
    "    \n",
    "    ax = axes[1]\n",
    "    plot_acf(df['vol'], ax=ax, title='Autocorrelation of volatility')\n",
    "    \n",
    "plt.tight_layout()\n",
    "plt.show()"
   ]
  },
  {
   "cell_type": "markdown",
   "metadata": {},
   "source": [
    "## Generalized autoregressive conditional heteroskedasticity GARCH(p, q)\n",
    "\\begin{align}\n",
    "&X_t = \\sigma_t Z_t\\,,\\\\\n",
    "&\\sigma^2_t = v + \\sum_{i=1}^p a_i X^2_{t-i} + \\sum_{j=1}^q b_j \\sigma^2_{t-j}\\,.\n",
    "\\end{align}"
   ]
  },
  {
   "cell_type": "code",
   "execution_count": null,
   "metadata": {},
   "outputs": [],
   "source": [
    "X = GARCH(x0=[0.0, 0.0], sigma0=[1.0, 1.0], v=1.0, T=T, vol=1.0)\n",
    "\n",
    "for i in range(4):\n",
    "    fig, axess = plt.subplots(nrows=4, ncols=2)\n",
    "    for j in range(4):\n",
    "        axes = axess[j]\n",
    "        a = a_[i]\n",
    "        b = a_[i]\n",
    "        X.a = a\n",
    "        X.b = b\n",
    "        X.rng = np.random.default_rng(SEED)\n",
    "        df = X.simulate()\n",
    "\n",
    "        ax = axes[0]\n",
    "        if integrated:\n",
    "            df['spot'].cumsum().plot(kind='line', ax=ax)\n",
    "            df['vol'].plot(kind='line', ax=ax)\n",
    "        else:\n",
    "            df.plot(kind='line', ax=ax)\n",
    "\n",
    "        if X.p > 0 and X.q > 0:\n",
    "            ax.set_xlabel('time\\n$v$={:.1f}, a={}, b={}'.format(X.v, X.a, X.b))\n",
    "        elif X.p > 0 and X.q == 0:\n",
    "            ax.set_xlabel('time\\n$v$={:.1f}, a={}'.format(X.v, X.a))\n",
    "        elif X.p == 0 and X.q > 0:\n",
    "            ax.set_xlabel('time\\n$v$={:.1f}, b={}'.format(X.v, X.b))\n",
    "        else:\n",
    "            ax.set_xlabel('time\\n$v$={:.1f}'.format(X.v))\n",
    "\n",
    "        ax.set_ylabel('spot')\n",
    "        ax.legend(loc='upper right')\n",
    "        ax.set_title('GARCH({:.0f}, {:.0f})'.format(X.p, X.q))\n",
    "\n",
    "        ax = axes[1]\n",
    "        plot_acf(df['vol'], ax=ax, title='Autocorrelation of volatility')\n",
    "\n",
    "    plt.tight_layout()\n",
    "    plt.show()"
   ]
  },
  {
   "cell_type": "code",
   "execution_count": null,
   "metadata": {},
   "outputs": [],
   "source": []
  }
 ],
 "metadata": {
  "kernelspec": {
   "display_name": "Python 3 (ipykernel)",
   "language": "python",
   "name": "python3"
  },
  "language_info": {
   "codemirror_mode": {
    "name": "ipython",
    "version": 3
   },
   "file_extension": ".py",
   "mimetype": "text/x-python",
   "name": "python",
   "nbconvert_exporter": "python",
   "pygments_lexer": "ipython3",
   "version": "3.9.12"
  }
 },
 "nbformat": 4,
 "nbformat_minor": 2
}
